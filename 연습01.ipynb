{
  "nbformat": 4,
  "nbformat_minor": 0,
  "metadata": {
    "colab": {
      "provenance": [],
      "authorship_tag": "ABX9TyOZMEP5mKUFrX9X0qQlp1dF",
      "include_colab_link": true
    },
    "kernelspec": {
      "name": "python3",
      "display_name": "Python 3"
    },
    "language_info": {
      "name": "python"
    }
  },
  "cells": [
    {
      "cell_type": "markdown",
      "metadata": {
        "id": "view-in-github",
        "colab_type": "text"
      },
      "source": [
        "<a href=\"https://colab.research.google.com/github/serene1004/python_study/blob/main/%EC%97%B0%EC%8A%B501.ipynb\" target=\"_parent\"><img src=\"https://colab.research.google.com/assets/colab-badge.svg\" alt=\"Open In Colab\"/></a>"
      ]
    },
    {
      "cell_type": "code",
      "execution_count": 13,
      "metadata": {
        "colab": {
          "base_uri": "https://localhost:8080/"
        },
        "id": "pH_nAfsgdMm_",
        "outputId": "97648409-2fba-48f7-bd18-b70212bb5235"
      },
      "outputs": [
        {
          "output_type": "stream",
          "name": "stdout",
          "text": [
            "n n**2 n**3\n",
            "===========\n",
            "1   1    1\n",
            "3   9   27\n",
            "5  25  125\n",
            "7  49  343\n"
          ]
        }
      ],
      "source": [
        "# 순차 구조를 사용하여 n, n*n, n*n*n을 출력하는 프로그램\n",
        "\n",
        "print(\"n n**2 n**3\")\n",
        "print(\"===========\")\n",
        "\n",
        "n = 1\n",
        "print(n, \" \", n**2, \"  \",n**3)\n",
        "\n",
        "n = 3\n",
        "print(n, \" \",n**2, \" \",n**3)\n",
        "\n",
        "n = 5\n",
        "print(n, \"\", n**2, \"\", n**3)\n",
        "\n",
        "n = 7\n",
        "print(n, \"\", n**2, \"\", n**3)"
      ]
    }
  ]
}