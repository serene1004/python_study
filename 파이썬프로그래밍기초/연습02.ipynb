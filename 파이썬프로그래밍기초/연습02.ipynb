{
  "nbformat": 4,
  "nbformat_minor": 0,
  "metadata": {
    "colab": {
      "provenance": [],
      "authorship_tag": "ABX9TyOgCrSdYHkvg08GK8uSprEw",
      "include_colab_link": true
    },
    "kernelspec": {
      "name": "python3",
      "display_name": "Python 3"
    },
    "language_info": {
      "name": "python"
    }
  },
  "cells": [
    {
      "cell_type": "markdown",
      "metadata": {
        "id": "view-in-github",
        "colab_type": "text"
      },
      "source": [
        "<a href=\"https://colab.research.google.com/github/serene1004/python_study/blob/main/%EC%97%B0%EC%8A%B502.ipynb\" target=\"_parent\"><img src=\"https://colab.research.google.com/assets/colab-badge.svg\" alt=\"Open In Colab\"/></a>"
      ]
    },
    {
      "cell_type": "code",
      "execution_count": 20,
      "metadata": {
        "colab": {
          "base_uri": "https://localhost:8080/"
        },
        "id": "nVjBGCfZZBHY",
        "outputId": "aa8b8559-fcc4-4650-8acf-28b2e90ebb7f"
      },
      "outputs": [
        {
          "output_type": "stream",
          "name": "stdout",
          "text": [
            "점수를 입력하세요 : 102\n",
            "잘못된 점수입니다.\n"
          ]
        }
      ],
      "source": [
        "# 선택 구조를 사용하여 사용자가 입력한 점수를 사용하여 성적산출 기준표에 따라 성적이 출력되는 프로그램\n",
        "\n",
        "# 점수를 입력\n",
        "score = int(input(\"점수를 입력하세요 : \"))\n",
        "\n",
        "if score <= 100 and score >= 90 :\n",
        "    print(\"A입니다.\")\n",
        "elif score <= 89 and score >= 80 :\n",
        "    print(\"B입니다.\")\n",
        "elif score <= 79 and score >= 70 :\n",
        "    print(\"C입니다.\")\n",
        "elif score <= 69 and score >= 60 :\n",
        "    print(\"D입니다.\")\n",
        "elif score <= 59 and score >= 0 :\n",
        "    print(\"F입니다.\")\n",
        "else :\n",
        "    print(\"잘못된 점수입니다.\")"
      ]
    }
  ]
}