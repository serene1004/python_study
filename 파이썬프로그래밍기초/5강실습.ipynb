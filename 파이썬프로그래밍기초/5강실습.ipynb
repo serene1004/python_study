{
  "nbformat": 4,
  "nbformat_minor": 0,
  "metadata": {
    "colab": {
      "provenance": [],
      "include_colab_link": true
    },
    "kernelspec": {
      "name": "python3",
      "display_name": "Python 3"
    },
    "language_info": {
      "name": "python"
    }
  },
  "cells": [
    {
      "cell_type": "markdown",
      "metadata": {
        "id": "view-in-github",
        "colab_type": "text"
      },
      "source": [
        "<a href=\"https://colab.research.google.com/github/serene1004/python_study/blob/main/5%EA%B0%95%EC%8B%A4%EC%8A%B5.ipynb\" target=\"_parent\"><img src=\"https://colab.research.google.com/assets/colab-badge.svg\" alt=\"Open In Colab\"/></a>"
      ]
    },
    {
      "cell_type": "markdown",
      "source": [
        "# 5강 2절"
      ],
      "metadata": {
        "id": "QaMMtoihlN9D"
      }
    },
    {
      "cell_type": "markdown",
      "source": [
        "삼각형 출력하기"
      ],
      "metadata": {
        "id": "zsVGhzcxlSh2"
      }
    },
    {
      "cell_type": "code",
      "execution_count": 3,
      "metadata": {
        "id": "Uzg7FWgclGzv",
        "colab": {
          "base_uri": "https://localhost:8080/"
        },
        "outputId": "b0d31d53-8363-4498-87db-5d4c79bc06ed"
      },
      "outputs": [
        {
          "output_type": "stream",
          "name": "stdout",
          "text": [
            "   *\n",
            "  ***\n",
            " *****\n",
            "*******\n"
          ]
        }
      ],
      "source": [
        "print(\"   *\")\n",
        "print(\"  ***\")\n",
        "print(\" *****\")\n",
        "print(\"*******\")"
      ]
    },
    {
      "cell_type": "code",
      "source": [
        "input()"
      ],
      "metadata": {
        "colab": {
          "base_uri": "https://localhost:8080/",
          "height": 54
        },
        "id": "ge9sWPyQeWnm",
        "outputId": "ac23db00-0de4-4727-bcbd-054c6ac91296"
      },
      "execution_count": 4,
      "outputs": [
        {
          "name": "stdout",
          "output_type": "stream",
          "text": [
            "hello\n"
          ]
        },
        {
          "output_type": "execute_result",
          "data": {
            "text/plain": [
              "'hello'"
            ],
            "application/vnd.google.colaboratory.intrinsic+json": {
              "type": "string"
            }
          },
          "metadata": {},
          "execution_count": 4
        }
      ]
    },
    {
      "cell_type": "code",
      "source": [
        "rad = input(\"반지름의 값을 입력하세요 : \")"
      ],
      "metadata": {
        "colab": {
          "base_uri": "https://localhost:8080/"
        },
        "id": "i8ji_C4iegRf",
        "outputId": "64adcb2f-2601-44d8-9ac3-4a0b10f4fd9c"
      },
      "execution_count": 6,
      "outputs": [
        {
          "name": "stdout",
          "output_type": "stream",
          "text": [
            "반지름의 값을 입력하세요 : 30\n"
          ]
        }
      ]
    },
    {
      "cell_type": "code",
      "source": [
        "rad = input(\"30\")\n",
        "int(rad)"
      ],
      "metadata": {
        "colab": {
          "base_uri": "https://localhost:8080/"
        },
        "id": "4SY7HBnYxLpk",
        "outputId": "1e0ea35b-69b4-4143-8522-f36935684ce1"
      },
      "execution_count": 8,
      "outputs": [
        {
          "name": "stdout",
          "output_type": "stream",
          "text": [
            "3030\n"
          ]
        },
        {
          "output_type": "execute_result",
          "data": {
            "text/plain": [
              "30"
            ]
          },
          "metadata": {},
          "execution_count": 8
        }
      ]
    },
    {
      "cell_type": "markdown",
      "source": [
        "원뿔 계산 프로그램 개선"
      ],
      "metadata": {
        "id": "o1aoIihhlrBZ"
      }
    },
    {
      "cell_type": "code",
      "source": [
        "#반지름, 높이 값 할당\n",
        "rad = int(input(\"반지름의 값을 입력하세요 : \"))\n",
        "hei = int(input(\"높이의 값을 입력하세요 : \"))\n",
        "#부피 출력\n",
        "print(\"부피의 값 \", 1 / 3 * 3.14 * rad ** 2 * hei,\"입니다.\", sep=\"\")\n",
        "#겉넓이 출력\n",
        "print(\"겉넓이의 값 \", 3.14 * rad ** 2 + 3.14 * rad * hei,\"입니다.\", sep=\"\")"
      ],
      "metadata": {
        "id": "jzJqpbKgluL7",
        "colab": {
          "base_uri": "https://localhost:8080/"
        },
        "outputId": "566bdc89-14e8-4415-9d8e-0dcb0a02fd73"
      },
      "execution_count": 13,
      "outputs": [
        {
          "output_type": "stream",
          "name": "stdout",
          "text": [
            "반지름의 값을 입력하세요 : 30\n",
            "높이의 값을 입력하세요 : 40\n",
            "부피의 값 37680.0입니다.\n",
            "겉넓이의 값 6594.0입니다.\n"
          ]
        }
      ]
    }
  ]
}